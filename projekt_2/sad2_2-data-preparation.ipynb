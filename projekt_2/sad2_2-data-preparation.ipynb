{
 "cells": [
  {
   "cell_type": "code",
   "execution_count": 21,
   "metadata": {},
   "outputs": [],
   "source": [
    "import pandas as pd\n",
    "import os\n",
    "import csv"
   ]
  },
  {
   "cell_type": "code",
   "execution_count": 23,
   "metadata": {},
   "outputs": [],
   "source": [
    "DATA_FOLDER = os.path.join(os.getcwd(), 'dane')"
   ]
  },
  {
   "cell_type": "markdown",
   "metadata": {},
   "source": [
    "# Przygotowanie cen żywności"
   ]
  },
  {
   "cell_type": "code",
   "execution_count": 74,
   "metadata": {},
   "outputs": [],
   "source": [
    "data = pd.read_csv(os.path.join(DATA_FOLDER, 'Zywnosc.csv'), sep=';')\n",
    "COLUMNS = ['nazwa_pozycja_2', 'opis_okres', 'wartosc']\n",
    "data = data[COLUMNS]"
   ]
  },
  {
   "cell_type": "code",
   "execution_count": 75,
   "metadata": {},
   "outputs": [
    {
     "data": {
      "text/html": [
       "<div>\n",
       "<style scoped>\n",
       "    .dataframe tbody tr th:only-of-type {\n",
       "        vertical-align: middle;\n",
       "    }\n",
       "\n",
       "    .dataframe tbody tr th {\n",
       "        vertical-align: top;\n",
       "    }\n",
       "\n",
       "    .dataframe thead th {\n",
       "        text-align: right;\n",
       "    }\n",
       "</style>\n",
       "<table border=\"1\" class=\"dataframe\">\n",
       "  <thead>\n",
       "    <tr style=\"text-align: right;\">\n",
       "      <th></th>\n",
       "      <th>nazwa_pozycja_2</th>\n",
       "      <th>opis_okres</th>\n",
       "      <th>wartosc</th>\n",
       "    </tr>\n",
       "  </thead>\n",
       "  <tbody>\n",
       "    <tr>\n",
       "      <th>0</th>\n",
       "      <td>chleb pszenno-żytni za 0.5 kg</td>\n",
       "      <td>2020 M03</td>\n",
       "      <td>2.86</td>\n",
       "    </tr>\n",
       "    <tr>\n",
       "      <th>1</th>\n",
       "      <td>mąka pszenna za 1 kg</td>\n",
       "      <td>2020 M03</td>\n",
       "      <td>2.95</td>\n",
       "    </tr>\n",
       "    <tr>\n",
       "      <th>2</th>\n",
       "      <td>kasza jęczmienna za 0.5 kg</td>\n",
       "      <td>2020 M03</td>\n",
       "      <td>2.44</td>\n",
       "    </tr>\n",
       "    <tr>\n",
       "      <th>3</th>\n",
       "      <td>mięso wołowe z kością (rostbef) za 1 kg</td>\n",
       "      <td>2020 M03</td>\n",
       "      <td>29.21</td>\n",
       "    </tr>\n",
       "    <tr>\n",
       "      <th>4</th>\n",
       "      <td>mięso wołowe bez kości (z udźca) za 1 kg</td>\n",
       "      <td>2020 M03</td>\n",
       "      <td>34.55</td>\n",
       "    </tr>\n",
       "  </tbody>\n",
       "</table>\n",
       "</div>"
      ],
      "text/plain": [
       "                            nazwa_pozycja_2 opis_okres  wartosc\n",
       "0             chleb pszenno-żytni za 0.5 kg   2020 M03     2.86\n",
       "1                      mąka pszenna za 1 kg   2020 M03     2.95\n",
       "2                kasza jęczmienna za 0.5 kg   2020 M03     2.44\n",
       "3   mięso wołowe z kością (rostbef) za 1 kg   2020 M03    29.21\n",
       "4  mięso wołowe bez kości (z udźca) za 1 kg   2020 M03    34.55"
      ]
     },
     "execution_count": 75,
     "metadata": {},
     "output_type": "execute_result"
    }
   ],
   "source": [
    "data.head()"
   ]
  },
  {
   "cell_type": "code",
   "execution_count": 81,
   "metadata": {},
   "outputs": [],
   "source": [
    "average_data = data.groupby(['opis_okres'])['wartosc'].mean()\n",
    "average_data = average_data.reset_index()"
   ]
  },
  {
   "cell_type": "code",
   "execution_count": 85,
   "metadata": {},
   "outputs": [],
   "source": [
    "# Posortuj wartości w kolumnie 'opis_okres' rosnąco\n",
    "inflation = average_data.sort_values(by='opis_okres', ascending=True)\n",
    "\n",
    "# Zapisz posortowane wartości w tabeli\n",
    "my_inflation_list = list(inflation['wartosc'])\n",
    "\n",
    "# zapisz tabele w pliku (najpierw konwersja na punkty inflacyjne)\n",
    "with open(os.path.join(DATA_FOLDER, 'Wlasna_Inflacja_table.txt'), 'w', encoding='utf-8') as file:\n",
    "    prev_value = my_inflation_list[0]\n",
    "    for value in my_inflation_list[1:]:\n",
    "        file.write(f'{value / prev_value * 100:.1f}\\n')\n",
    "        prev_value = value"
   ]
  },
  {
   "cell_type": "markdown",
   "metadata": {},
   "source": [
    "# Przygotowanie inflacji"
   ]
  },
  {
   "cell_type": "code",
   "execution_count": 61,
   "metadata": {},
   "outputs": [],
   "source": [
    "with open(os.path.join(DATA_FOLDER, 'Inflacja_parsed.csv'), 'r', encoding='utf-8') as file:\n",
    "    reader = csv.DictReader(file, delimiter=',')\n",
    "    \n",
    "    # Przekształcanie DictReader do listy słowników\n",
    "    ## Usuniecie okresów 2020 M1, M2 i M3 - bo nie ma danych żywności w tym czasie\n",
    "    data = [row for row in reader if row['opis_okres'] not in ['2020 M01', '2020 M02', '2020 M03']]\n",
    "\n",
    "# Tworzenie DataFrame z listy słowników\n",
    "inflation = pd.DataFrame(data)"
   ]
  },
  {
   "cell_type": "code",
   "execution_count": 62,
   "metadata": {},
   "outputs": [
    {
     "data": {
      "text/html": [
       "<div>\n",
       "<style scoped>\n",
       "    .dataframe tbody tr th:only-of-type {\n",
       "        vertical-align: middle;\n",
       "    }\n",
       "\n",
       "    .dataframe tbody tr th {\n",
       "        vertical-align: top;\n",
       "    }\n",
       "\n",
       "    .dataframe thead th {\n",
       "        text-align: right;\n",
       "    }\n",
       "</style>\n",
       "<table border=\"1\" class=\"dataframe\">\n",
       "  <thead>\n",
       "    <tr style=\"text-align: right;\">\n",
       "      <th></th>\n",
       "      <th>opis_okres</th>\n",
       "      <th>wartosc</th>\n",
       "    </tr>\n",
       "  </thead>\n",
       "  <tbody>\n",
       "    <tr>\n",
       "      <th>0</th>\n",
       "      <td>2023 M01</td>\n",
       "      <td>102.5</td>\n",
       "    </tr>\n",
       "    <tr>\n",
       "      <th>1</th>\n",
       "      <td>2023 M02</td>\n",
       "      <td>103.8</td>\n",
       "    </tr>\n",
       "    <tr>\n",
       "      <th>2</th>\n",
       "      <td>2023 M03</td>\n",
       "      <td>104.9</td>\n",
       "    </tr>\n",
       "    <tr>\n",
       "      <th>3</th>\n",
       "      <td>2023 M04</td>\n",
       "      <td>105.7</td>\n",
       "    </tr>\n",
       "    <tr>\n",
       "      <th>4</th>\n",
       "      <td>2023 M05</td>\n",
       "      <td>105.7</td>\n",
       "    </tr>\n",
       "  </tbody>\n",
       "</table>\n",
       "</div>"
      ],
      "text/plain": [
       "  opis_okres wartosc\n",
       "0   2023 M01   102.5\n",
       "1   2023 M02   103.8\n",
       "2   2023 M03   104.9\n",
       "3   2023 M04   105.7\n",
       "4   2023 M05   105.7"
      ]
     },
     "execution_count": 62,
     "metadata": {},
     "output_type": "execute_result"
    }
   ],
   "source": [
    "inflation.head()"
   ]
  },
  {
   "cell_type": "code",
   "execution_count": 72,
   "metadata": {},
   "outputs": [],
   "source": [
    "# Posortuj wartości w kolumnie 'opis_okres' rosnąco\n",
    "inflation = inflation.sort_values(by='opis_okres', ascending=True)\n",
    "\n",
    "# Zapisz posortowane wartości w tabeli\n",
    "official_inflation_list = list(inflation['wartosc'])\n",
    "\n",
    "# zapisz tabele w pliku\n",
    "with open(os.path.join(DATA_FOLDER, 'Oficjalna_Inflacja_table.txt'), 'w', encoding='utf-8') as file:\n",
    "    for value in official_inflation_list:\n",
    "        file.write(f'{value}\\n')"
   ]
  }
 ],
 "metadata": {
  "kernelspec": {
   "display_name": "Python 3",
   "language": "python",
   "name": "python3"
  },
  "language_info": {
   "codemirror_mode": {
    "name": "ipython",
    "version": 3
   },
   "file_extension": ".py",
   "mimetype": "text/x-python",
   "name": "python",
   "nbconvert_exporter": "python",
   "pygments_lexer": "ipython3",
   "version": "3.12.3"
  }
 },
 "nbformat": 4,
 "nbformat_minor": 2
}
